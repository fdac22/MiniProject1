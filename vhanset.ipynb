{
 "cells": [
  {
   "cell_type": "markdown",
   "metadata": {},
   "source": [
    "# Assignment 1\n",
    "\n",
    "The idea of my project is to compare works from writers who are one century apart. The two works from the same author sets a basis for what kind of vocabulary is used by that author in that century. Then, by comparing the work of two separate authors, we are able to see how vocabulary has changed within the one hundred year span. Perhaps it is rather similar or perhaps it has changed drastically.\n",
    "\n",
    "1. Compare word frequencies between two works of a single author.\n",
    "    * Jacob Grimm: Little Red Riding Hood and Rapunzel\n",
    "1. Compare word frequencies between works of two authors.\n",
    "    * Analysis from Jacob Grimm and The Wonderful Wizard of Oz\n",
    "1. Are there some words preferred by one author but used less frequently by another author?\n",
    "\n",
    "Extra credit\n",
    "\n",
    "1. The frequency of a specific word, e.g., \"would\" should follow a binomial distribution (each regular word in a document is a trial and with probability p that word is \"would\". The estimate for p is N(\"would\")/N(regular word)). Do these binomial distributions for your chosen word differ significantly between books of the same author or between authors? \n",
    "\n",
    "Project Gutenberg is a good source of for fiction and non-fiction.\n",
    "\n",
    "E.g below are two most popular books from Project Gutenberg:\n",
    "- Pride and Prejudice at http://www.gutenberg.org/ebooks/1342.txt.utf-8\n",
    "- Adventures of Huckleberry Finn at http://www.gutenberg.org/ebooks/76.txt.utf-8"
   ]
  },
  {
   "cell_type": "code",
   "execution_count": 18,
   "metadata": {
    "collapsed": true
   },
   "outputs": [],
   "source": [
    "import requests, re, nltk\n",
    "#In case your text is not on Project Gutenberg but at some other URL\n",
    "#http://www.fullbooks.com/Our-World-or-The-Slaveholders-Daughter2.html\n",
    "# that contains 12 parts\n",
    "t = \"\"\n",
    "for i in range(2,13):\n",
    "  r = requests .get('http://www.fullbooks.com/Our-World-or-The-Slaveholders-Daughter' + str(i) + '.html')\n",
    "  t = t + r.text"
   ]
  },
  {
   "cell_type": "code",
   "execution_count": 23,
   "metadata": {},
   "outputs": [
    {
     "data": {
      "text/plain": [
       "1323653"
      ]
     },
     "execution_count": 23,
     "metadata": {},
     "output_type": "execute_result"
    }
   ],
   "source": [
    "len(t)"
   ]
  },
  {
   "cell_type": "code",
   "execution_count": 4,
   "metadata": {},
   "outputs": [],
   "source": [
    "import requests, re, nltk\n",
    "\n",
    "rapunzel = requests.get('https://www.gutenberg.org/files/52521/52521-0.txt')\n",
    "#lrrh = parse from rapunzel(all in one book)\n",
    "twwoo = requests.get('https://www.gutenberg.org/files/55/55-0.txt')\n",
    "\n",
    "#1. parse text so only the book text is in the .text section (rather than including all logistic text)\n",
    "#2. analyse word frequency of each Grimm fairytale\n",
    "#3. find the words in-common in Grimm Fairytales\n",
    "#4. analyse word frequency in The Wonderful Wizard of Oz\n",
    "#5. find the words in-common between The Wonderful Wizard of Oz and Grimm Farytales"
   ]
  }
 ],
 "metadata": {
  "kernelspec": {
   "display_name": "Python 3 (ipykernel)",
   "language": "python",
   "name": "python3"
  },
  "language_info": {
   "codemirror_mode": {
    "name": "ipython",
    "version": 3
   },
   "file_extension": ".py",
   "mimetype": "text/x-python",
   "name": "python",
   "nbconvert_exporter": "python",
   "pygments_lexer": "ipython3",
   "version": "3.8.10"
  }
 },
 "nbformat": 4,
 "nbformat_minor": 1
}
