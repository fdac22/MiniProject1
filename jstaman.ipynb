{
 "cells": [
  {
   "cell_type": "code",
   "execution_count": null,
   "metadata": {
    "collapsed": true
   },
   "outputs": [],
   "source": [
    "#Jared Staman\n",
    "import operator\n",
    "import re\n",
    "\n",
    "presidents = ['Donald Trump.txt', 'Joe Biden.txt']\n",
    "speeches = []\n",
    "list_copy = [[]]\n",
    "\n",
    "for i in range(0,2,1):\n",
    "    f = open(presidents[i], 'r', encoding=\"ascii\", errors='replace')\n",
    "\n",
    "    t = f.read()\n",
    "\n",
    "    wds = re.split('\\s+', t)\n",
    "    for k in range(len(wds)):\n",
    "            wds[k] = re.sub('[,\".&|:@,<>()*$?!\\\\/;=]', \"\", wds[k])\n",
    "            wds[k] = re.sub(u'\\u201C', \"\", wds[k])\n",
    "            wds[k] = re.sub(u'\\u201D', \"\", wds[k])\n",
    "            wds[k] = re.sub(u'\\u2018', \"\", wds[k])\n",
    "            wds[k] = re.sub('^[0-9\\.]*$', \"\", wds[k])\n",
    "            wds[k] = wds[k].lower()\n",
    "\n",
    "    wf = {}\n",
    "    for w in wds:\n",
    "        if w in wf: wf [w] = wf [w] + 1\n",
    "        else: wf [w] = 1\n",
    "    wfs = sorted (wf .items(), key = operator .itemgetter (1), reverse=True)\n",
    "    speeches.append(wfs)\n",
    "    for j in wfs:\n",
    "        list_copy[i].append(j[0])\n",
    "    list_copy.append([])\n",
    "\n",
    "copy = speeches\n",
    "copy2 = speeches    \n",
    "\n",
    "#find unique words\n",
    "for x, word_list in enumerate(copy):\n",
    "    for s, l in enumerate(list_copy):\n",
    "        if x != s:    \n",
    "            word_list = [i for i in word_list if i[0] not in l]\n",
    "        speeches[x] = word_list\n",
    "\n",
    "#printing top 15 unique words for each speech\n",
    "for wfs in speeches:\n",
    "    ml = 14\n",
    "    for i in range(0,ml,1):\n",
    "        print (wfs[i][0]+\"\\t\"+str(wfs[i][1]))"
   ]
  }
 ],
 "metadata": {
  "kernelspec": {
   "display_name": "Python 3 (ipykernel)",
   "language": "python",
   "name": "python3"
  },
  "language_info": {
   "codemirror_mode": {
    "name": "ipython",
    "version": 3
   },
   "file_extension": ".py",
   "mimetype": "text/x-python",
   "name": "python",
   "nbconvert_exporter": "python",
   "pygments_lexer": "ipython3",
   "version": "3.8.10"
  }
 },
 "nbformat": 4,
 "nbformat_minor": 1
}
