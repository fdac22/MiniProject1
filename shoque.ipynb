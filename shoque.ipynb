{
 "cells": [
  {
   "cell_type": "markdown",
   "metadata": {},
   "source": [
    "# Written text as operational data\n",
    "\n",
    "Written text is one type of data\n",
    "\n",
    "### Why people write?\n",
    "\n",
    " - To communicate: their thoughts, feelings, urgency, needs, information\n",
    "\n",
    "### Why people communicate?\n",
    "\n",
    "1. To express emotions\n",
    "1. To share information\n",
    "1. To enable or elicit an action\n",
    "1. ...\n",
    "\n",
    "### We will use written text for the purpose other than \n",
    "1. To experience emotion\n",
    "1. To learn something the author intended us to learn\n",
    "1. To do what the author intended us to do\n",
    "\n",
    "### Instead, we will use written text to recognize who wrote it\n",
    " - By calculating and comparing word frequencies in written documents\n",
    " \n",
    "See, for example, likely fictional story https://medium.com/@amuse/how-the-nsa-caught-satoshi-nakamoto-868affcef595"
   ]
  },
  {
   "cell_type": "markdown",
   "metadata": {},
   "source": [
    "### Example 1. Dictionaries in python (associative arrays)\n",
    "\n",
    "Plot the frequency distribution of words on a web page."
   ]
  },
  {
   "cell_type": "code",
   "execution_count": 1,
   "metadata": {},
   "outputs": [
    {
     "name": "stdout",
     "output_type": "stream",
     "text": [
      "<!DOCTYPE\t1\n",
      "PUBLIC\t1\n",
      "\"-//IETF//DTD\t1\n",
      "2.0//EN\">\t1\n",
      "<html><head>\t1\n",
      "<title>403\t1\n",
      "Forbidden</title>\t1\n",
      "</head><body>\t1\n",
      "<h1>Forbidden</h1>\t1\n",
      "<p>You\t1\n",
      "don't\t1\n",
      "have\t1\n",
      "permission\t1\n",
      "to\t1\n"
     ]
    }
   ],
   "source": [
    "import requests, re\n",
    "# re is a module for regular expressions: to detect various combinations of characters\n",
    "import operator\n",
    "\n",
    "# Start from a simple document\n",
    "r = requests .get('http://eecs.utk.edu')\n",
    "\n",
    "# What comes back includes headers and other HTTP stuff, get just the body of the response\n",
    "t = r.text\n",
    "\n",
    "# obtain words by splitting a string using as separator one or more (+) space/like characters (\\s) \n",
    "wds = re.split('\\s+',t)\n",
    "\n",
    "# now populate a dictionary (wf)\n",
    "wf = {}\n",
    "for w in wds:\n",
    "    if w in wf: wf [w] = wf [w] + 1\n",
    "    else:  wf[w] = 1\n",
    "\n",
    "# dictionaries can not be sorted, so lets get a sorted *list*        \n",
    "wfs = sorted (wf .items(), key = operator .itemgetter (1), reverse=True)   \n",
    "\n",
    "# lets just have no more than 15 words \n",
    "ml = min(len(wfs),15)\n",
    "for i in range(1,ml,1):\n",
    "    print (wfs[i][0]+\"\\t\"+str(wfs[i][1]))  "
   ]
  },
  {
   "cell_type": "markdown",
   "metadata": {},
   "source": [
    "### Example 2\n",
    "\n",
    "Lots of markup in the output, lets remove it --- \n",
    "\n",
    "use BeautifulSoup and nltk modules and practice some regular expressions."
   ]
  },
  {
   "cell_type": "code",
   "execution_count": 2,
   "metadata": {},
   "outputs": [],
   "source": [
    "import requests, re, nltk\n",
    "from bs4 import BeautifulSoup\n",
    "from nltk import clean_html\n",
    "from collections import Counter\n",
    "import operator\n",
    "\n",
    "# we may not care about the usage of stop words\n",
    "stop_words = nltk.corpus.stopwords.words('english') + [\n",
    " 'ut', '\\'re','.', ',', '--', '\\'s', '?', ')', '(', ':', '\\'',\n",
    " '\\\"', '-', '}', '{', '&', '|', u'\\u2014' ]\n",
    "\n",
    "# We most likely would like to remove html markup\n",
    "def cleanHtml (html):\n",
    "    from bs4 import BeautifulSoup\n",
    "    soup = BeautifulSoup(html, 'html.parser')\n",
    "    return soup .get_text()\n",
    "\n",
    "# We also want to remove special characters, quotes, etc. from each word\n",
    "def cleanWord (w):\n",
    "    # r in r'[.,\"\\']' tells to treat \\ as a regular character \n",
    "    # but we need to escape ' with \\'\n",
    "    # any character between the brackets [] is to be removed \n",
    "    wn = re.sub('[,\"\\.\\'&\\|:@>*;/=]', \"\", w)\n",
    "    # get rid of numbers\n",
    "    return re.sub('^[0-9\\.]*$', \"\", wn)\n",
    "       \n",
    "# define a function to get text/clean/calculate frequency\n",
    "def get_wf (URL):\n",
    "    # first get the web page\n",
    "    r = requests .get(URL)\n",
    "    \n",
    "    # Now clean\n",
    "    # remove html markup\n",
    "    t = cleanHtml (r .text) .lower()\n",
    "    \n",
    "    # split string into an array of words using any sequence of spaces \"\\s+\" \n",
    "    wds = re .split('\\s+',t)\n",
    "    \n",
    "    # remove periods, commas, etc stuck to the edges of words\n",
    "    for i in range(len(wds)):\n",
    "        wds [i] = cleanWord (wds [i])\n",
    "    \n",
    "    # If satisfied with results, lets go to the next step: calculate frequencies\n",
    "    # We can write a loop to create a dictionary, but \n",
    "    # there is a special function for everything in python\n",
    "    # in particular for counting frequencies (like function table() in R)\n",
    "    wf = Counter (wds)\n",
    "    \n",
    "    # Remove stop words from the dictionary wf\n",
    "    for k in stop_words:\n",
    "        wf. pop(k, None)\n",
    "        \n",
    "    #how many regular words in the document?\n",
    "    tw = 0\n",
    "    for w in wf:\n",
    "       tw += wf[w] \n",
    "        \n",
    "    \n",
    "    # Get ordered list\n",
    "    wfs = sorted (wf .items(), key = operator.itemgetter(1), reverse=True)\n",
    "    ml = min(len(wfs),15)\n",
    "\n",
    "    #Reverse the list because barh plots items from the bottom\n",
    "    return (wfs [ 0:ml ] [::-1], tw)\n",
    "        \n",
    "# Now populate two lists    \n",
    "(wf_ee, tw_ee) = get_wf('http://www.gutenberg.org/ebooks/1342.txt.utf-8')\n",
    "(wf_bu, tw_bu) = get_wf('http://www.gutenberg.org/ebooks/76.txt.utf-8')"
   ]
  },
  {
   "cell_type": "code",
   "execution_count": 56,
   "metadata": {},
   "outputs": [
    {
     "data": {
      "image/png": "[encoded data removed]",
      "text/plain": [
       "<Figure size 720x432 with 3 Axes>"
      ]
     },
     "metadata": {},
     "output_type": "display_data"
    }
   ],
   "source": [
    "#Plot the results: are there striking differences in language?\n",
    "import numpy as np\n",
    "import pylab\n",
    "import matplotlib.pyplot as plt\n",
    "\n",
    "%matplotlib inline\n",
    "def plotTwoLists (wf_ee, wf_bu, title):\n",
    "    f = plt.figure (figsize=(10, 6))\n",
    "    # this is painfully tedious....\n",
    "    f .suptitle (title, fontsize=20)\n",
    "    ax = f.add_subplot(111)\n",
    "    ax .spines ['top'] .set_color ('none')\n",
    "    ax .spines ['bottom'] .set_color ('none')\n",
    "    ax .spines ['left'] .set_color ('none')\n",
    "    ax .spines ['right'] .set_color ('none')\n",
    "    ax .tick_params (labelcolor='w', top='off', bottom='off', left='off', right='off', labelsize=20)\n",
    "\n",
    "    # Create two subplots, this is the first one\n",
    "    ax1 = f .add_subplot (121)\n",
    "    plt .subplots_adjust (wspace=.5)\n",
    "\n",
    "    pos = np .arange (len(wf_ee)+1) \n",
    "    ax1 .tick_params (axis='both', which='major', labelsize=14)\n",
    "    pylab .yticks (pos, [ x [0] for x in wf_ee ]+[\" \"])\n",
    "    ax1 .barh (range(len(wf_ee)), [ x [1] for x in wf_ee ], align='center')\n",
    "\n",
    "    ax2 = f .add_subplot (122)\n",
    "    ax2 .tick_params (axis='both', which='major', labelsize=14)\n",
    "    pos = np .arange (len(wf_bu)+1) \n",
    "    pylab .yticks (pos, [ x [0] for x in wf_bu ]+[\" \"])\n",
    "    ax2 .barh (range (len(wf_bu)), [ x [1] for x in wf_bu ], align='center')\n",
    "\n",
    "plotTwoLists (wf_ee, wf_bu, 'Difference between Pride and Prejudice and Huck Finn')"
   ]
  },
  {
   "cell_type": "code",
   "execution_count": 41,
   "metadata": {},
   "outputs": [
    {
     "data": {
      "text/plain": [
       "tuple"
      ]
     },
     "execution_count": 41,
     "metadata": {},
     "output_type": "execute_result"
    }
   ],
   "source": [
    "type(wf_ee[0])"
   ]
  },
  {
   "cell_type": "code",
   "execution_count": null,
   "metadata": {},
   "outputs": [],
   "source": [
    "#In case Project gutenberg is blocked you can download text to your laptop and copy to the docker container via scp\n",
    "#Assuming the file name you copy is pg4680.txt here is how you change the script\n",
    "# Please note the option errors='replace'\n",
    "# without it python invariably runs into unicode errors\n",
    "f = open ('pg4680.txt', 'r', encoding=\"ascii\", errors='replace')\n",
    "    \n",
    "# What comes back includes headers and other HTTP stuff, get just the body of the response\n",
    "t = f.read()\n",
    "\n",
    "# obtain words by splitting a string using as separator one or more (+) space/like characters (\\s) \n",
    "wds = re.split('\\s+',t)\n",
    "\n",
    "# now populate a dictionary (wf)\n",
    "wf = {}\n",
    "for w in wds:\n",
    "    if w in wf: wf [w] = wf [w] + 1\n",
    "    else:  wf [w] = 1\n",
    "\n",
    "# dictionaries can not be sorted, so lets get a sorted *list*        \n",
    "wfs = sorted (wf .items(), key = operator .itemgetter (1), reverse=True)   \n",
    "\n",
    "# lets just have no more than 15 words \n",
    "ml = min(len(wfs),15)\n",
    "for i in range(1,ml,1):\n",
    "    print (wfs[i][0]+\"\\t\"+str(wfs[i][1]))  "
   ]
  },
  {
   "cell_type": "markdown",
   "metadata": {},
   "source": [
    "# Assignment 1\n",
    "\n",
    "1. Compare word frequencies between two works of a single author.\n",
    "1. Compare word frequencies between works of two authors.\n",
    "1. Are there some words preferred by one author but used less frequently by another author?\n",
    "\n",
    "Extra credit\n",
    "\n",
    "1. The frequency of a specific word, e.g., \"would\" should follow a binomial distribution (each regular word in a document is a trial and with probability p that word is \"would\". The estimate for p is N(\"would\")/N(regular word)). Do these binomial distributions for your chosen word differ significantly between books of the same author or between authors? \n",
    "\n",
    "Project Gutenberg is a good source of for fiction and non-fiction.\n",
    "\n",
    "E.g below are two most popular books from Project Gutenberg:\n",
    "- Pride and Prejudice at http://www.gutenberg.org/ebooks/1342.txt.utf-8\n",
    "- Adventures of Huckleberry Finn at http://www.gutenberg.org/ebooks/76.txt.utf-8"
   ]
  },
  {
   "cell_type": "code",
   "execution_count": null,
   "metadata": {},
   "outputs": [],
   "source": [
    "import requests, re, nltk\n",
    "#In case your text is not on Project Gutenberg but at some other URL\n",
    "#http://www.fullbooks.com/Our-World-or-The-Slaveholders-Daughter2.html\n",
    "# that contains 12 parts\n",
    "t = \"\"\n",
    "for i in range(2,13):\n",
    "  r = requests .get('http://www.fullbooks.com/Our-World-or-The-Slaveholders-Daughter' + str(i) + '.html')\n",
    "  t = t + r.text"
   ]
  },
  {
   "cell_type": "code",
   "execution_count": null,
   "metadata": {},
   "outputs": [],
   "source": [
    "len(t)"
   ]
  },
  {
   "cell_type": "code",
   "execution_count": 4,
   "metadata": {},
   "outputs": [],
   "source": [
    "import requests, re, nltk\n",
    "import operator\n",
    "import re"
   ]
  },
  {
   "cell_type": "code",
   "execution_count": 5,
   "metadata": {},
   "outputs": [
    {
     "name": "stdout",
     "output_type": "stream",
     "text": [
      "717572\n"
     ]
    }
   ],
   "source": [
    "r = requests .get('http://www.gutenberg.org/ebooks/1342.txt.utf-8')\n",
    "book1 = r.text\n",
    "print(len(book1))"
   ]
  },
  {
   "cell_type": "code",
   "execution_count": 6,
   "metadata": {},
   "outputs": [
    {
     "name": "stdout",
     "output_type": "stream",
     "text": [
      "606624\n"
     ]
    }
   ],
   "source": [
    "r = requests .get('http://www.gutenberg.org/ebooks/76.txt.utf-8')\n",
    "book2 = r.text\n",
    "print(len(book2))"
   ]
  },
  {
   "cell_type": "code",
   "execution_count": 7,
   "metadata": {},
   "outputs": [],
   "source": [
    "def dataCleaner(txt):\n",
    "    txt = txt[1:]\n",
    "    txt = txt.lower()\n",
    "    regex = re.compile('[^a-zA-Z ]')\n",
    "    txt = regex.sub('', txt)\n",
    "    txt = txt.replace('  ', ' ')\n",
    "    txt = txt.replace('  ', ' ')\n",
    "    txt = txt.replace('  ', ' ')\n",
    "    return txt\n"
   ]
  },
  {
   "cell_type": "code",
   "execution_count": 8,
   "metadata": {},
   "outputs": [],
   "source": [
    "book1 = dataCleaner(book1)\n",
    "book2 = dataCleaner(book2)\n",
    "\n",
    "book1_arr = book1.split(' ')\n",
    "book2_arr = book2.split(' ')"
   ]
  },
  {
   "cell_type": "code",
   "execution_count": 9,
   "metadata": {},
   "outputs": [
    {
     "name": "stderr",
     "output_type": "stream",
     "text": [
      "[nltk_data] Downloading package stopwords to /home/shoque/nltk_data...\n",
      "[nltk_data]   Unzipping corpora/stopwords.zip.\n"
     ]
    }
   ],
   "source": [
    "nltk.download('stopwords')\n",
    "stop_words = nltk.corpus.stopwords.words('english') + ['ut', '\\'re','.', ',', '--', '\\'s', '?', ')', '(', ':', '\\'','\\\"', '-', '}', '{', '&', '|', u'\\u2014' ]"
   ]
  },
  {
   "cell_type": "code",
   "execution_count": 17,
   "metadata": {},
   "outputs": [
    {
     "name": "stdout",
     "output_type": "stream",
     "text": [
      "mr\t623\n",
      "could\t452\n",
      "would\t387\n",
      "elizabeth\t386\n",
      "said\t351\n",
      "darcy\t306\n",
      "must\t280\n",
      "much\t280\n",
      "mrs\t263\n",
      "bennet\t244\n",
      "one\t227\n",
      "miss\t223\n",
      "jane\t211\n",
      "know\t209\n",
      "bingley\t206\n"
     ]
    }
   ],
   "source": [
    "wf = {}\n",
    "for w in book1_arr:\n",
    "    if w in wf: wf [w] = wf [w] + 1\n",
    "    else:  wf [w] = 1\n",
    "for k in stop_words:\n",
    "    wf. pop(k, None)\n",
    "wfs = sorted (wf .items(), key = operator .itemgetter (1), reverse=True)   \n",
    "ml = min(len(wfs),15)\n",
    "for i in range(0,ml,1):\n",
    "    print (wfs[i][0]+\"\\t\"+str(wfs[i][1]))"
   ]
  },
  {
   "cell_type": "code",
   "execution_count": 16,
   "metadata": {},
   "outputs": [
    {
     "name": "stdout",
     "output_type": "stream",
     "text": [
      "got\t554\n",
      "see\t423\n",
      "said\t413\n",
      "would\t341\n",
      "come\t326\n",
      "one\t319\n",
      "get\t305\n",
      "didnt\t294\n",
      "dont\t285\n",
      "says\t268\n",
      "could\t262\n",
      "went\t261\n",
      "aint\t259\n",
      "time\t253\n",
      "warnt\t249\n"
     ]
    }
   ],
   "source": [
    "wf = {}\n",
    "for w in book2_arr:\n",
    "    if w in wf: wf [w] = wf [w] + 1\n",
    "    else:  wf [w] = 1\n",
    "for k in stop_words:\n",
    "    wf. pop(k, None)\n",
    "wfs = sorted (wf .items(), key = operator .itemgetter (1), reverse=True)   \n",
    "ml = min(len(wfs),15)\n",
    "for i in range(0,ml,1):\n",
    "    print (wfs[i][0]+\"\\t\"+str(wfs[i][1]))"
   ]
  },
  {
   "cell_type": "code",
   "execution_count": 80,
   "metadata": {},
   "outputs": [],
   "source": [
    "# Author: Frank L. Packard\n",
    "#Book 1: The Adventures of Jimmie Dale \n",
    "URL_1 = \"https://www.gutenberg.org/files/1218/1218-0.txt\"\n",
    "\n",
    "#Book 2: On the Iron at Big Cloud\n",
    "URL_2 = \"https://www.gutenberg.org/files/54111/54111-0.txt\"\n",
    "\n",
    "\n",
    "# Author: Charles Murray\n",
    "#Book 3: The Great Airship: A Tale of Adventure\n",
    "URL_3 = \"https://www.gutenberg.org/cache/epub/41176/pg41176.txt\""
   ]
  },
  {
   "cell_type": "code",
   "execution_count": 81,
   "metadata": {},
   "outputs": [
    {
     "name": "stdout",
     "output_type": "stream",
     "text": [
      "931924\n"
     ]
    }
   ],
   "source": [
    "r = requests.get(URL_1)\n",
    "book_1 = r.text\n",
    "print(len(book_1))"
   ]
  },
  {
   "cell_type": "code",
   "execution_count": 82,
   "metadata": {},
   "outputs": [
    {
     "name": "stdout",
     "output_type": "stream",
     "text": [
      "532828\n"
     ]
    }
   ],
   "source": [
    "r = requests.get(URL_2)\n",
    "book_2 = r.text\n",
    "print(len(book_2))"
   ]
  },
  {
   "cell_type": "code",
   "execution_count": 83,
   "metadata": {},
   "outputs": [
    {
     "name": "stdout",
     "output_type": "stream",
     "text": [
      "524855\n"
     ]
    }
   ],
   "source": [
    "r = requests.get(URL_3)\n",
    "book_3 = r.text\n",
    "print(len(book_3))"
   ]
  },
  {
   "cell_type": "code",
   "execution_count": 84,
   "metadata": {},
   "outputs": [],
   "source": [
    "book_1 = dataCleaner(book_1)\n",
    "book_2 = dataCleaner(book_2)\n",
    "book_3 = dataCleaner(book_3)\n",
    "\n",
    "book1_arr = book_1.split(' ')\n",
    "book2_arr = book_2.split(' ')\n",
    "book3_arr = book_3.split(' ')"
   ]
  },
  {
   "cell_type": "code",
   "execution_count": 85,
   "metadata": {},
   "outputs": [
    {
     "name": "stdout",
     "output_type": "stream",
     "text": [
      "one\t508\n",
      "said\t495\n",
      "would\t461\n",
      "little\t392\n",
      "man\t389\n",
      "door\t356\n",
      "could\t346\n",
      "back\t291\n",
      "room\t287\n",
      "gray\t247\n",
      "dales\t229\n",
      "way\t226\n",
      "hand\t224\n",
      "know\t223\n",
      "like\t216\n"
     ]
    }
   ],
   "source": [
    "wf = {}\n",
    "for w in book1_arr:\n",
    "    if w in wf: wf [w] = wf [w] + 1\n",
    "    else:  wf [w] = 1\n",
    "for k in stop_words: \n",
    "    wf. pop(k, None)\n",
    "#Removing special words that are part of the title of the book\n",
    "wf.pop('jimmie', None)\n",
    "wf.pop('dale', None)\n",
    "\n",
    "wf_1 = wf.copy()\n",
    "wfs = sorted (wf .items(), key = operator .itemgetter (1), reverse=True)   \n",
    "ml = min(len(wfs),15)\n",
    "for i in range(0,ml,1):\n",
    "    print (wfs[i][0]+\"\\t\"+str(wfs[i][1]))\n",
    "    \n",
    "book_1_words = wfs[:15].copy()"
   ]
  },
  {
   "cell_type": "code",
   "execution_count": 86,
   "metadata": {},
   "outputs": [
    {
     "name": "stdout",
     "output_type": "stream",
     "text": [
      "said\t314\n",
      "one\t287\n",
      "like\t235\n",
      "man\t212\n",
      "got\t194\n",
      "little\t177\n",
      "men\t174\n",
      "know\t172\n",
      "big\t168\n",
      "back\t168\n",
      "way\t166\n",
      "dont\t165\n",
      "came\t163\n",
      "get\t159\n",
      "would\t148\n"
     ]
    }
   ],
   "source": [
    "wf = {}\n",
    "for w in book2_arr:\n",
    "    if w in wf: wf [w] = wf [w] + 1\n",
    "    else:  wf [w] = 1\n",
    "for k in stop_words: \n",
    "    wf. pop(k, None)\n",
    "\n",
    "wf_2 = wf.copy()\n",
    "wfs = sorted (wf .items(), key = operator .itemgetter (1), reverse=True)   \n",
    "ml = min(len(wfs),15)\n",
    "for i in range(0,ml,1):\n",
    "    print (wfs[i][0]+\"\\t\"+str(wfs[i][1]))\n",
    "book_2_words = wfs[:15].copy()"
   ]
  },
  {
   "cell_type": "code",
   "execution_count": 73,
   "metadata": {},
   "outputs": [
    {
     "data": {
      "text/plain": [
       "[('one', 508),\n",
       " ('said', 495),\n",
       " ('would', 461),\n",
       " ('little', 392),\n",
       " ('man', 389),\n",
       " ('door', 356),\n",
       " ('could', 346),\n",
       " ('back', 291),\n",
       " ('room', 287),\n",
       " ('gray', 247),\n",
       " ('dales', 229),\n",
       " ('way', 226),\n",
       " ('hand', 224),\n",
       " ('know', 223),\n",
       " ('like', 216)]"
      ]
     },
     "execution_count": 73,
     "metadata": {},
     "output_type": "execute_result"
    }
   ],
   "source": [
    "book_1_words"
   ]
  },
  {
   "cell_type": "markdown",
   "metadata": {},
   "source": [
    "# Compare word frequencies between two works of a single author."
   ]
  },
  {
   "cell_type": "code",
   "execution_count": 77,
   "metadata": {},
   "outputs": [
    {
     "data": {
      "image/png": "[encoded data removed]",
      "text/plain": [
       "<Figure size 720x432 with 3 Axes>"
      ]
     },
     "metadata": {},
     "output_type": "display_data"
    }
   ],
   "source": [
    "plotTwoLists(book_1_words, book_2_words,\"Comparing two books from author Frank L. Packard\")"
   ]
  },
  {
   "cell_type": "code",
   "execution_count": 87,
   "metadata": {},
   "outputs": [
    {
     "name": "stdout",
     "output_type": "stream",
     "text": [
      "one\t348\n",
      "dick\t286\n",
      "said\t221\n",
      "ship\t203\n",
      "joe\t178\n",
      "mr\t168\n",
      "could\t168\n",
      "would\t154\n",
      "see\t152\n",
      "alec\t147\n",
      "andrew\t140\n",
      "upon\t140\n",
      "us\t137\n",
      "sir\t119\n",
      "carl\t115\n"
     ]
    }
   ],
   "source": [
    "wf = {}\n",
    "for w in book3_arr:\n",
    "    if w in wf: wf [w] = wf [w] + 1\n",
    "    else:  wf [w] = 1\n",
    "for k in stop_words: \n",
    "    wf. pop(k, None)\n",
    "#Removing special words that are part of the title of the book\n",
    "wf.pop('airship', None)\n",
    "wf_3 = wf.copy()\n",
    "wfs = sorted (wf .items(), key = operator .itemgetter (1), reverse=True)   \n",
    "ml = min(len(wfs),15)\n",
    "for i in range(0,ml,1):\n",
    "    print (wfs[i][0]+\"\\t\"+str(wfs[i][1]))\n",
    "    \n",
    "book_3_words = wfs[:15].copy()"
   ]
  },
  {
   "cell_type": "markdown",
   "metadata": {},
   "source": [
    "# Compare word frequencies between works of two authors."
   ]
  },
  {
   "cell_type": "code",
   "execution_count": 88,
   "metadata": {},
   "outputs": [
    {
     "data": {
      "image/png": "[encoded data removed]",
      "text/plain": [
       "<Figure size 720x432 with 3 Axes>"
      ]
     },
     "metadata": {},
     "output_type": "display_data"
    }
   ],
   "source": [
    "plotTwoLists(book_2_words, book_3_words,\"Comparing two books from author Frank L. Packard and author Charles Murray\")"
   ]
  },
  {
   "cell_type": "markdown",
   "metadata": {},
   "source": [
    "# Are there some words preferred by one author but used less frequently by another author?\n",
    "\n",
    "Answer: I could see some ones are commonly used by both authors on a high frequencey. But, there are some words that one author prefers over the other one. For example, author Frank L. Packard used words like \"got\", \"like\" frequently, whereas, author Charles Murray used such words less frequently."
   ]
  },
  {
   "cell_type": "markdown",
   "metadata": {},
   "source": [
    "# The frequency of a specific word, e.g., \"would\" should follow a binomial distribution (each regular word in a document is a trial and with probability p that word is \"would\". The estimate for p is N(\"would\")/N(regular word)). Do these binomial distributions for your chosen word differ significantly between books of the same author or between authors?"
   ]
  },
  {
   "cell_type": "code",
   "execution_count": 98,
   "metadata": {},
   "outputs": [],
   "source": [
    "import numpy as np\n",
    "import matplotlib.pyplot as plt\n",
    "from scipy.stats import binom"
   ]
  },
  {
   "cell_type": "code",
   "execution_count": 131,
   "metadata": {},
   "outputs": [],
   "source": [
    "word = \"said\"\n",
    "\n",
    "total = 0\n",
    "for item in wf_1:\n",
    "    total += wf_1[item]\n",
    "\n",
    "probability1 = wf_1[word]/total*100\n",
    "\n",
    "total = 0\n",
    "for item in wf_2:\n",
    "    total += wf_2[item]\n",
    "\n",
    "probability2 = wf_2[word]/total*100\n",
    "\n",
    "total = 0\n",
    "for item in wf_3:\n",
    "    total += wf_3[item]\n",
    "\n",
    "probability3 = wf_3[word]/total*100"
   ]
  },
  {
   "cell_type": "code",
   "execution_count": 132,
   "metadata": {},
   "outputs": [
    {
     "name": "stdout",
     "output_type": "stream",
     "text": [
      "0.6473719315224358\n",
      "0.7072549947068496\n",
      "0.4983988092553336\n"
     ]
    }
   ],
   "source": [
    "print(probability1)\n",
    "print(probability2)\n",
    "print(probability3)"
   ]
  },
  {
   "cell_type": "code",
   "execution_count": 135,
   "metadata": {},
   "outputs": [
    {
     "data": {
      "text/plain": [
       "Text(0.5, 1.0, 'Binomial distribution for three books\\nGreen is for Book 1 by author Frank L. Packard\\nRed is for Book 2 by author Frank L. Packard\\nBlue is for Book 3 by author Charles Murray')"
      ]
     },
     "execution_count": 135,
     "metadata": {},
     "output_type": "execute_result"
    },
    {
     "data": {
      "image/png": "[encoded data removed]",
      "text/plain": [
       "<Figure size 432x288 with 1 Axes>"
      ]
     },
     "metadata": {
      "needs_background": "light"
     },
     "output_type": "display_data"
    }
   ],
   "source": [
    "n = 40\n",
    "x = np.arange(0,n+1)\n",
    "\n",
    "binomial_pmf1 = binom.pmf(x, n, probability1)\n",
    "binomial_pmf2 = binom.pmf(x, n, probability2)\n",
    "binomial_pmf3 = binom.pmf(x, n, probability3)\n",
    "\n",
    "plt.plot(x, binomial_pmf1, color='green')\n",
    "plt.plot(x, binomial_pmf2, color='red')\n",
    "plt.plot(x, binomial_pmf3, color='blue')\n",
    "plt.title(\"Binomial distribution for three books\\nGreen is for Book 1 by author Frank L. Packard\\nRed is for Book 2 by author Frank L. Packard\\nBlue is for Book 3 by author Charles Murray\")"
   ]
  },
  {
   "cell_type": "markdown",
   "metadata": {},
   "source": [
    "We can see that, for the same three books, the binomial distribution for the word \"said\" are different."
   ]
  },
  {
   "cell_type": "code",
   "execution_count": null,
   "metadata": {},
   "outputs": [],
   "source": []
  }
 ],
 "metadata": {
  "kernelspec": {
   "display_name": "Python 3 (ipykernel)",
   "language": "python",
   "name": "python3"
  },
  "language_info": {
   "codemirror_mode": {
    "name": "ipython",
    "version": 3
   },
   "file_extension": ".py",
   "mimetype": "text/x-python",
   "name": "python",
   "nbconvert_exporter": "python",
   "pygments_lexer": "ipython3",
   "version": "3.8.10"
  }
 },
 "nbformat": 4,
 "nbformat_minor": 1
}
