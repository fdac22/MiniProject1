{
 "cells": [
  {
   "cell_type": "code",
   "execution_count": 17,
   "id": "00d950d8",
   "metadata": {},
   "outputs": [
    {
     "name": "stdout",
     "output_type": "stream",
     "text": [
      "dog\n",
      "0.29\n",
      "0.19\n",
      "0.08\n",
      "0.03\n",
      "0.97\n",
      "0.11\n",
      "1.78\n",
      "0.06\n",
      "0.22\n",
      "0.31\n",
      "0.09\n",
      "14.33\n",
      "None\n",
      "0.15\n",
      "0.49\n",
      "0.07\n",
      "1.23\n",
      "None\n",
      "3.58\n",
      "0.14\n"
     ]
    }
   ],
   "source": [
    "import pandas as pd\n",
    "import numpy as np\n",
    "\n",
    "df = pd.read_json('default-cards-20220912210801.json')\n",
    "\n",
    "print('dog')\n",
    "\n",
    "name_list = df['name'].copy()\n",
    "price_list = df['prices'].copy()\n",
    "\n",
    "for i in range(0, 20):\n",
    "    first_pair = list(price_list[i].items())[0]\n",
    "    #print(first_pair)\n",
    "    print(first_pair[1])\n",
    "    \n",
    "#name_price.head()\n",
    "\n",
    "#name_price = df[['name', 'prices']].copy()\n",
    "#print(df['prices'])\n",
    "#for col in df.columns:\n",
    "#    print(col)"
   ]
  },
  {
   "cell_type": "code",
   "execution_count": null,
   "id": "e02b696d",
   "metadata": {},
   "outputs": [],
   "source": []
  }
 ],
 "metadata": {
  "kernelspec": {
   "display_name": "Python 3 (ipykernel)",
   "language": "python",
   "name": "python3"
  },
  "language_info": {
   "codemirror_mode": {
    "name": "ipython",
    "version": 3
   },
   "file_extension": ".py",
   "mimetype": "text/x-python",
   "name": "python",
   "nbconvert_exporter": "python",
   "pygments_lexer": "ipython3",
   "version": "3.9.7"
  }
 },
 "nbformat": 4,
 "nbformat_minor": 5
}
