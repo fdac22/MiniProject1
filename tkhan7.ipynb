{
 "cells": [
  {
   "cell_type": "markdown",
   "metadata": {},
   "source": [
    "# Written text as operational data\n",
    "\n",
    "Written text is one type of data\n",
    "\n",
    "### Why people write?\n",
    "\n",
    " - To communicate: their thoughts, feelings, urgency, needs, information\n",
    "\n",
    "### Why people communicate?\n",
    "\n",
    "1. To express emotions\n",
    "1. To share information\n",
    "1. To enable or elicit an action\n",
    "1. ...\n",
    "\n",
    "### We will use written text for the purpose other than \n",
    "1. To experience emotion\n",
    "1. To learn something the author intended us to learn\n",
    "1. To do what the author intended us to do\n",
    "\n",
    "### Instead, we will use written text to recognize who wrote it\n",
    " - By calculating and comparing word frequencies in written documents\n",
    " \n",
    "See, for example, likely fictional story https://medium.com/@amuse/how-the-nsa-caught-satoshi-nakamoto-868affcef595"
   ]
  },
  {
   "cell_type": "markdown",
   "metadata": {},
   "source": [
    "### Example 1. Dictionaries in python (associative arrays)\n",
    "\n",
    "Plot the frequency distribution of words on a web page."
   ]
  },
  {
   "cell_type": "code",
   "execution_count": 5,
   "metadata": {},
   "outputs": [
    {
     "name": "stdout",
     "output_type": "stream",
     "text": [
      "class=\"menu-item\t54\n",
      "<div\t54\n",
      "menu-item-object-page\t45\n",
      "menu-item-type-post_type\t45\n",
      "of\t39\n",
      "</div>\t38\n",
      "<td\t36\n",
      "</td>\t35\n",
      "<li><a\t35\n",
      "class=\"eventless\">\t28\n",
      "<link\t25\n",
      "<script\t24\n",
      "/>\t21\n",
      "</ul>\t21\n"
     ]
    }
   ],
   "source": [
    "import requests, re\n",
    "# re is a module for regular expressions: to detect various combinations of characters\n",
    "import operator\n",
    "\n",
    "# Start from a simple document\n",
    "r = requests .get('http://eecs.utk.edu')\n",
    "\n",
    "# What comes back includes headers and other HTTP stuff, get just the body of the response\n",
    "t = r.text\n",
    "\n",
    "# obtain words by splitting a string using as separator one or more (+) space/like characters (\\s) \n",
    "wds = re.split('\\s+',t)\n",
    "\n",
    "# now populate a dictionary (wf)\n",
    "wf = {}\n",
    "for w in wds:\n",
    "    if w in wf: wf [w] = wf [w] + 1\n",
    "    else:  wf[w] = 1\n",
    "\n",
    "# dictionaries can not be sorted, so lets get a sorted *list*        \n",
    "wfs = sorted (wf .items(), key = operator .itemgetter (1), reverse=True)   \n",
    "\n",
    "# lets just have no more than 15 words \n",
    "ml = min(len(wfs),15)\n",
    "for i in range(1,ml,1):\n",
    "    print (wfs[i][0]+\"\\t\"+str(wfs[i][1]))  "
   ]
  },
  {
   "cell_type": "markdown",
   "metadata": {},
   "source": [
    "### Example 2\n",
    "\n",
    "Lots of markup in the output, lets remove it --- \n",
    "\n",
    "use BeautifulSoup and nltk modules and practice some regular expressions."
   ]
  },
  {
   "cell_type": "code",
   "execution_count": 12,
   "metadata": {
    "collapsed": true
   },
   "outputs": [],
   "source": [
    "import requests, re, nltk\n",
    "from bs4 import BeautifulSoup\n",
    "from nltk import clean_html\n",
    "from collections import Counter\n",
    "import operator\n",
    "\n",
    "# we may not care about the usage of stop words\n",
    "stop_words = nltk.corpus.stopwords.words('english') + [\n",
    " 'ut', '\\'re','.', ',', '--', '\\'s', '?', ')', '(', ':', '\\'',\n",
    " '\\\"', '-', '}', '{', '&', '|', u'\\u2014' ]\n",
    "\n",
    "# We most likely would like to remove html markup\n",
    "def cleanHtml (html):\n",
    "    from bs4 import BeautifulSoup\n",
    "    soup = BeautifulSoup(html, 'html.parser')\n",
    "    return soup .get_text()\n",
    "\n",
    "# We also want to remove special characters, quotes, etc. from each word\n",
    "def cleanWord (w):\n",
    "    # r in r'[.,\"\\']' tells to treat \\ as a regular character \n",
    "    # but we need to escape ' with \\'\n",
    "    # any character between the brackets [] is to be removed \n",
    "    wn = re.sub('[,\"\\.\\'&\\|:@>*;/=]', \"\", w)\n",
    "    # get rid of numbers\n",
    "    return re.sub('^[0-9\\.]*$', \"\", wn)\n",
    "       \n",
    "# define a function to get text/clean/calculate frequency\n",
    "def get_wf (URL):\n",
    "    # first get the web page\n",
    "    r = requests .get(URL)\n",
    "    \n",
    "    # Now clean\n",
    "    # remove html markup\n",
    "    t = cleanHtml (r .text) .lower()\n",
    "    \n",
    "    # split string into an array of words using any sequence of spaces \"\\s+\" \n",
    "    wds = re .split('\\s+',t)\n",
    "    \n",
    "    # remove periods, commas, etc stuck to the edges of words\n",
    "    for i in range(len(wds)):\n",
    "        wds [i] = cleanWord (wds [i])\n",
    "    \n",
    "    # If satisfied with results, lets go to the next step: calculate frequencies\n",
    "    # We can write a loop to create a dictionary, but \n",
    "    # there is a special function for everything in python\n",
    "    # in particular for counting frequencies (like function table() in R)\n",
    "    wf = Counter (wds)\n",
    "    \n",
    "    # Remove stop words from the dictionary wf\n",
    "    for k in stop_words:\n",
    "        wf. pop(k, None)\n",
    "        \n",
    "    #how many regular words in the document?\n",
    "    tw = 0\n",
    "    for w in wf:\n",
    "       tw += wf[w] \n",
    "        \n",
    "    \n",
    "    # Get ordered list\n",
    "    wfs = sorted (wf .items(), key = operator.itemgetter(1), reverse=True)\n",
    "    ml = min(len(wfs),15)\n",
    "\n",
    "    #Reverse the list because barh plots items from the bottom\n",
    "    return (wfs [ 0:ml ] [::-1], tw)\n",
    "        \n",
    "# Now populate two lists    \n",
    "(wf_ee, tw_ee) = get_wf('http://www.gutenberg.org/ebooks/1342.txt.utf-8')\n",
    "(wf_bu, tw_bu) = get_wf('http://www.gutenberg.org/ebooks/76.txt.utf-8')"
   ]
  },
  {
   "cell_type": "code",
   "execution_count": 14,
   "metadata": {},
   "outputs": [
    {
     "data": {
      "image/png": "[encoded data removed]",
      "text/plain": [
       "<matplotlib.figure.Figure at 0x7f818a95b4e0>"
      ]
     },
     "metadata": {},
     "output_type": "display_data"
    }
   ],
   "source": [
    "#Plot the results: are there striking differences in language?\n",
    "import numpy as np\n",
    "import pylab\n",
    "import matplotlib.pyplot as plt\n",
    "\n",
    "%matplotlib inline\n",
    "def plotTwoLists (wf_ee, wf_bu, title):\n",
    "    f = plt.figure (figsize=(10, 6))\n",
    "    # this is painfully tedious....\n",
    "    f .suptitle (title, fontsize=20)\n",
    "    ax = f.add_subplot(111)\n",
    "    ax .spines ['top'] .set_color ('none')\n",
    "    ax .spines ['bottom'] .set_color ('none')\n",
    "    ax .spines ['left'] .set_color ('none')\n",
    "    ax .spines ['right'] .set_color ('none')\n",
    "    ax .tick_params (labelcolor='w', top='off', bottom='off', left='off', right='off', labelsize=20)\n",
    "\n",
    "    # Create two subplots, this is the first one\n",
    "    ax1 = f .add_subplot (121)\n",
    "    plt .subplots_adjust (wspace=.5)\n",
    "\n",
    "    pos = np .arange (len(wf_ee)+1) \n",
    "    ax1 .tick_params (axis='both', which='major', labelsize=14)\n",
    "    pylab .yticks (pos, [ x [0] for x in wf_ee ])\n",
    "    ax1 .barh (range(len(wf_ee)), [ x [1] for x in wf_ee ], align='center')\n",
    "\n",
    "    ax2 = f .add_subplot (122)\n",
    "    ax2 .tick_params (axis='both', which='major', labelsize=14)\n",
    "    pos = np .arange (len(wf_bu)+1) \n",
    "    pylab .yticks (pos, [ x [0] for x in wf_bu ])\n",
    "    ax2 .barh (range (len(wf_bu)), [ x [1] for x in wf_bu ], align='center')\n",
    "\n",
    "plotTwoLists (wf_ee, wf_bu, 'Difference between Pride and Prejudice and Huck Finn')"
   ]
  },
  {
   "cell_type": "code",
   "execution_count": 9,
   "metadata": {},
   "outputs": [
    {
     "name": "stdout",
     "output_type": "stream",
     "text": [
      "and\t2836\n",
      "of\t2676\n",
      "to\t2646\n",
      "a\t2217\n",
      "in\t1422\n",
      "his\t1205\n",
      "he\t928\n",
      "that\t920\n",
      "was\t823\n",
      "for\t798\n",
      "with\t797\n",
      "as\t672\n",
      "I\t505\n",
      "you\t497\n"
     ]
    }
   ],
   "source": [
    "#In case Project gutenberg is blocked you can download text to your laptop and copy to the docker container via scp\n",
    "#Assuming the file name you copy is pg4680.txt here is how you change the script\n",
    "# Please note the option errors='replace'\n",
    "# without it python invariably runs into unicode errors\n",
    "f = open ('pg4680.txt', 'r', encoding=\"ascii\", errors='replace')\n",
    "    \n",
    "# What comes back includes headers and other HTTP stuff, get just the body of the response\n",
    "t = f.read()\n",
    "\n",
    "# obtain words by splitting a string using as separator one or more (+) space/like characters (\\s) \n",
    "wds = re.split('\\s+',t)\n",
    "\n",
    "# now populate a dictionary (wf)\n",
    "wf = {}\n",
    "for w in wds:\n",
    "    if w in wf: wf [w] = wf [w] + 1\n",
    "    else:  wf [w] = 1\n",
    "\n",
    "# dictionaries can not be sorted, so lets get a sorted *list*        \n",
    "wfs = sorted (wf .items(), key = operator .itemgetter (1), reverse=True)   \n",
    "\n",
    "# lets just have no more than 15 words \n",
    "ml = min(len(wfs),15)\n",
    "for i in range(1,ml,1):\n",
    "    print (wfs[i][0]+\"\\t\"+str(wfs[i][1]))  "
   ]
  },
  {
   "cell_type": "markdown",
   "metadata": {},
   "source": [
    "# Assignment 1\n",
    "\n",
    "1. Compare word frequencies between two works of a single author.\n",
    "1. Compare word frequencies between works of two authors.\n",
    "1. Are there some words preferred by one author but used less frequently by another author?\n",
    "\n",
    "Extra credit\n",
    "\n",
    "1. The frequency of a specific word, e.g., \"would\" should follow a binomial distribution (each regular word in a document is a trial and with probability p that word is \"would\". The estimate for p is N(\"would\")/N(regular word)). Do these binomial distributions for your chosen word differ significantly between books of the same author or between authors? \n",
    "\n",
    "Project Gutenberg is a good source of for fiction and non-fiction.\n",
    "\n",
    "E.g below are two most popular books from Project Gutenberg:\n",
    "- Pride and Prejudice at http://www.gutenberg.org/ebooks/1342.txt.utf-8\n",
    "- Adventures of Huckleberry Finn at http://www.gutenberg.org/ebooks/76.txt.utf-8"
   ]
  },
  {
   "cell_type": "code",
   "execution_count": 18,
   "metadata": {
    "collapsed": true
   },
   "outputs": [],
   "source": [
    "import requests, re, nltk\n",
    "#In case your text is not on Project Gutenberg but at some other URL\n",
    "#http://www.fullbooks.com/Our-World-or-The-Slaveholders-Daughter2.html\n",
    "# that contains 12 parts\n",
    "t = \"\"\n",
    "for i in range(2,13):\n",
    "  r = requests .get('http://www.fullbooks.com/Our-World-or-The-Slaveholders-Daughter' + str(i) + '.html')\n",
    "  t = t + r.text"
   ]
  },
  {
   "cell_type": "code",
   "execution_count": 23,
   "metadata": {},
   "outputs": [
    {
     "data": {
      "text/plain": [
       "1323653"
      ]
     },
     "execution_count": 23,
     "metadata": {},
     "output_type": "execute_result"
    }
   ],
   "source": [
    "len(t)"
   ]
  },
  {
   "cell_type": "code",
   "execution_count": 64,
   "metadata": {},
   "outputs": [
    {
     "data": {
      "image/png": "[encoded data removed]",
      "text/plain": [
       "<Figure size 432x288 with 2 Axes>"
      ]
     },
     "metadata": {
      "needs_background": "light"
     },
     "output_type": "display_data"
    }
   ],
   "source": [
    "def plot_graph(title, book_1, book_2):\n",
    "    fig, (book1, book2) = plt.subplots(1,2) \n",
    "    fig.suptitle(title)\n",
    "\n",
    "    book1.barh([ x [0] for x in book_1 ],[ x [1] for x in book_1 ], color ='y')\n",
    "    book1.set_xlabel('frequency')\n",
    "    book1.set_ylabel('words')\n",
    "\n",
    "    book2.set_xlabel('frequency')\n",
    "    book2.set_ylabel('words')\n",
    "\n",
    "    book2.barh([ x [0] for x in book_2 ],[ x [1] for x in book_2], color ='r')\n",
    "\n",
    "    plt.tight_layout()\n",
    "    plt.show()\n",
    "    \n",
    "(book_1, tw_ee) = get_wf('https://www.gutenberg.org/cache/epub/4676/pg4676.txt')\n",
    "(book_2, tw_bu) = get_wf('https://www.gutenberg.org/cache/epub/22052/pg22052.txt')\n",
    "\n",
    "title = \"Difference between 'Outpost' and 'Standish of Standish: a story of the pilgrims' by Jane G. Austin\"\n",
    "plot_graph(title, book_1, book_2)\n"
   ]
  },
  {
   "cell_type": "code",
   "execution_count": 81,
   "metadata": {},
   "outputs": [
    {
     "data": {
      "image/png": "[encoded data removed]",
      "text/plain": [
       "<Figure size 432x288 with 2 Axes>"
      ]
     },
     "metadata": {
      "needs_background": "light"
     },
     "output_type": "display_data"
    },
    {
     "name": "stdout",
     "output_type": "stream",
     "text": [
      "like \n",
      "count in Jane books = 360 \n",
      "count in Gerald Cumberland books= 318 \n",
      "\n",
      "man \n",
      "count in Jane books = 417 \n",
      "count in Gerald Cumberland books= 363 \n",
      "\n",
      "would \n",
      "count in Jane books = 436 \n",
      "count in Gerald Cumberland books= 424 \n",
      "\n",
      "one \n",
      "count in Jane books = 562 \n",
      "count in Gerald Cumberland books= 598 \n",
      "\n",
      "said \n",
      "count in Jane books = 666 \n",
      "count in Gerald Cumberland books= 600 \n",
      "\n",
      "little \n",
      "count in Jane books = 734 \n",
      "count in Gerald Cumberland books= 440 \n",
      "\n"
     ]
    }
   ],
   "source": [
    "stop_words = nltk.corpus.stopwords.words('english') + [\n",
    " 'ut', '\\'re','.', ',', '--', '\\'s', '?', ')', '(', ':', '\\'',\n",
    " '\\\"', '-', '}', '{', '&', '|', u'\\u2014', \"\", \"â\\x80\\x9ci\" ]\n",
    "def cleanWord (w):\n",
    "    # r in r'[.,\"\\']' tells to treat \\ as a regular character \n",
    "    # but we need to escape ' with \\'\n",
    "    # any character between the brackets [] is to be removed \n",
    "    wn = re.sub('[,\"\\.\\'&\\|:@>*;/=]', \"\", w)\n",
    "    # get rid of numbers\n",
    "    return re.sub('^[0-9\\.]*$', \"\", wn)\n",
    "def get_wf_2_books (URL, URL2):\n",
    "    # first get the web page\n",
    "    r = requests .get(URL)\n",
    "    r2 = requests .get(URL2)\n",
    "    \n",
    "    # Now clean\n",
    "    # remove html markup\n",
    "    t = cleanHtml (r .text + r2 .text) .lower()\n",
    "    \n",
    "    # split string into an array of words using any sequence of spaces \"\\s+\" \n",
    "    wds = re .split('\\s+',t)\n",
    "    \n",
    "    # remove periods, commas, etc stuck to the edges of words\n",
    "    for i in range(len(wds)):\n",
    "        wds [i] = cleanWord (wds [i])\n",
    "    \n",
    "    # If satisfied with results, lets go to the next step: calculate frequencies\n",
    "    # We can write a loop to create a dictionary, but \n",
    "    # there is a special function for everything in python\n",
    "    # in particular for counting frequencies (like function table() in R)\n",
    "    wf = Counter (wds)\n",
    "    \n",
    "    # Remove stop words from the dictionary wf\n",
    "    for k in stop_words:\n",
    "        wf. pop(k, None)\n",
    "        \n",
    "    #how many regular words in the document?\n",
    "    tw = 0\n",
    "    for w in wf:\n",
    "       tw += wf[w] \n",
    "        \n",
    "    \n",
    "    # Get ordered list\n",
    "    wfs = sorted (wf .items(), key = operator.itemgetter(1), reverse=True)\n",
    "    ml = min(len(wfs),15)\n",
    "\n",
    "    #Reverse the list because barh plots items from the bottom\n",
    "    return (wfs [ 0:ml ] [::-1], tw)\n",
    "\n",
    "#compare works of jane g austin with gerald cumberland\n",
    "(j_a, tw_ee) = get_wf_2_books('https://www.gutenberg.org/cache/epub/4676/pg4676.txt', 'https://www.gutenberg.org/cache/epub/22052/pg22052.txt')\n",
    "(g_c, tw_ee) = get_wf_2_books('https://www.gutenberg.org/files/61437/61437-0.txt', 'https://www.gutenberg.org/files/60272/60272-0.txt')\n",
    "\n",
    "title = \"Difference between the works of Jane G. Austin and Gerald Cumberland\"\n",
    "plot_graph(title, j_a, g_c)\n",
    "\n",
    "for i in j_a:\n",
    "    for j in g_c:\n",
    "        if i[0] == j[0]:\n",
    "            print(i[0], \"\\ncount in Jane G. Austin books =\", i[1], \"\\ncount in Gerald Cumberland books=\", j[1], '\\n')"
   ]
  },
  {
   "cell_type": "code",
   "execution_count": null,
   "metadata": {},
   "outputs": [],
   "source": []
  },
  {
   "cell_type": "code",
   "execution_count": null,
   "metadata": {},
   "outputs": [],
   "source": []
  }
 ],
 "metadata": {
  "kernelspec": {
   "display_name": "Python 3 (ipykernel)",
   "language": "python",
   "name": "python3"
  },
  "language_info": {
   "codemirror_mode": {
    "name": "ipython",
    "version": 3
   },
   "file_extension": ".py",
   "mimetype": "text/x-python",
   "name": "python",
   "nbconvert_exporter": "python",
   "pygments_lexer": "ipython3",
   "version": "3.8.10"
  }
 },
 "nbformat": 4,
 "nbformat_minor": 1
}
